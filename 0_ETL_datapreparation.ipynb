{
 "cells": [
  {
   "cell_type": "markdown",
   "id": "436032d1-f6b4-492e-8c91-d58c6c33995f",
   "metadata": {},
   "source": [
    "# Dados Customer"
   ]
  },
  {
   "cell_type": "code",
   "execution_count": 2,
   "id": "d64d51a4-a9fa-4e17-9ba9-4d0a3c711e5e",
   "metadata": {},
   "outputs": [],
   "source": [
    "import sqlite3\n",
    "import pandas as pd"
   ]
  },
  {
   "cell_type": "code",
   "execution_count": 3,
   "id": "ab85b2f3-951e-45d9-9ae7-d38ed922ee07",
   "metadata": {},
   "outputs": [],
   "source": [
    "df = pd.read_csv(\"Dados/customer_dim.csv\", encoding=\"ISO-8859-1\")  # Substitua pelo nome do seu arquivo"
   ]
  },
  {
   "cell_type": "code",
   "execution_count": 46,
   "id": "5d944ac1-bbb1-469f-825a-9e0f4242fdc4",
   "metadata": {},
   "outputs": [],
   "source": [
    "con = sqlite3.connect(\"projetoecommerce.db\")  # Cria um banco de dados SQLite"
   ]
  },
  {
   "cell_type": "code",
   "execution_count": 47,
   "id": "88b4d47a-a2e5-4b2f-bebe-31718e23d163",
   "metadata": {},
   "outputs": [],
   "source": [
    "cursor = con.cursor()"
   ]
  },
  {
   "cell_type": "code",
   "execution_count": 5,
   "id": "37839137-5a2d-45e0-9bac-afcec18f81c4",
   "metadata": {},
   "outputs": [
    {
     "data": {
      "text/plain": [
       "9191"
      ]
     },
     "execution_count": 5,
     "metadata": {},
     "output_type": "execute_result"
    }
   ],
   "source": [
    "df.to_sql(\"customer_dim\", con, if_exists=\"replace\", index=False)"
   ]
  },
  {
   "cell_type": "code",
   "execution_count": 6,
   "id": "90f0e56f-9b66-4aed-bd01-d65378956cba",
   "metadata": {},
   "outputs": [
    {
     "name": "stdout",
     "output_type": "stream",
     "text": [
      "  coustomer_key             name     contact_no            nid\n",
      "0       C000001            sumit  8801920345851  7505075708899\n",
      "1       C000002         tammanne  8801817069329  1977731324842\n",
      "2       C000003    kailash kumar  8801663795774  3769494056318\n",
      "3       C000004  bhagwati prasad  8801533627961  9378834712725\n",
      "4       C000005             ajay  8801943715786  3540815556323\n"
     ]
    }
   ],
   "source": [
    "query = \"SELECT * FROM customer_dim LIMIT 5\"\n",
    "resultado = pd.read_sql_query(query, con)\n",
    "print(resultado)"
   ]
  },
  {
   "cell_type": "code",
   "execution_count": 7,
   "id": "0901cfb1-8d1c-4d57-997f-2c5d79f61ebd",
   "metadata": {},
   "outputs": [
    {
     "name": "stdout",
     "output_type": "stream",
     "text": [
      "  coustomer_key typeof(coustomer_key)   name typeof(name)     contact_no  \\\n",
      "0       C000001                  text  sumit         text  8801920345851   \n",
      "\n",
      "  typeof(contact_no)            nid typeof(nid)  \n",
      "0            integer  7505075708899     integer  \n"
     ]
    }
   ],
   "source": [
    "query1 = \"SELECT coustomer_key, typeof(coustomer_key), name, typeof(name), contact_no, typeof(contact_no), nid, typeof(nid) FROM customer_dim LIMIT 1\"\n",
    "resultado1 = pd.read_sql_query(query1, con)\n",
    "print(resultado1)"
   ]
  },
  {
   "cell_type": "code",
   "execution_count": 8,
   "id": "f06059cd-78b8-4f43-86a8-c2b545706e84",
   "metadata": {},
   "outputs": [],
   "source": [
    "con.execute(\"CREATE TABLE customer_dim_alt (customer_key TEXT, name TEXT, contact_no TEXT, nid TEXT);\")\n",
    "con.commit()"
   ]
  },
  {
   "cell_type": "code",
   "execution_count": 9,
   "id": "c09c6a91-2aa6-48e9-ac7f-be5dcbe08fc2",
   "metadata": {},
   "outputs": [
    {
     "data": {
      "text/html": [
       "<div>\n",
       "<style scoped>\n",
       "    .dataframe tbody tr th:only-of-type {\n",
       "        vertical-align: middle;\n",
       "    }\n",
       "\n",
       "    .dataframe tbody tr th {\n",
       "        vertical-align: top;\n",
       "    }\n",
       "\n",
       "    .dataframe thead th {\n",
       "        text-align: right;\n",
       "    }\n",
       "</style>\n",
       "<table border=\"1\" class=\"dataframe\">\n",
       "  <thead>\n",
       "    <tr style=\"text-align: right;\">\n",
       "      <th></th>\n",
       "      <th>cid</th>\n",
       "      <th>name</th>\n",
       "      <th>type</th>\n",
       "      <th>notnull</th>\n",
       "      <th>dflt_value</th>\n",
       "      <th>pk</th>\n",
       "    </tr>\n",
       "  </thead>\n",
       "  <tbody>\n",
       "    <tr>\n",
       "      <th>0</th>\n",
       "      <td>0</td>\n",
       "      <td>customer_key</td>\n",
       "      <td>TEXT</td>\n",
       "      <td>0</td>\n",
       "      <td>None</td>\n",
       "      <td>0</td>\n",
       "    </tr>\n",
       "    <tr>\n",
       "      <th>1</th>\n",
       "      <td>1</td>\n",
       "      <td>name</td>\n",
       "      <td>TEXT</td>\n",
       "      <td>0</td>\n",
       "      <td>None</td>\n",
       "      <td>0</td>\n",
       "    </tr>\n",
       "    <tr>\n",
       "      <th>2</th>\n",
       "      <td>2</td>\n",
       "      <td>contact_no</td>\n",
       "      <td>TEXT</td>\n",
       "      <td>0</td>\n",
       "      <td>None</td>\n",
       "      <td>0</td>\n",
       "    </tr>\n",
       "    <tr>\n",
       "      <th>3</th>\n",
       "      <td>3</td>\n",
       "      <td>nid</td>\n",
       "      <td>TEXT</td>\n",
       "      <td>0</td>\n",
       "      <td>None</td>\n",
       "      <td>0</td>\n",
       "    </tr>\n",
       "  </tbody>\n",
       "</table>\n",
       "</div>"
      ],
      "text/plain": [
       "   cid          name  type  notnull dflt_value  pk\n",
       "0    0  customer_key  TEXT        0       None   0\n",
       "1    1          name  TEXT        0       None   0\n",
       "2    2    contact_no  TEXT        0       None   0\n",
       "3    3           nid  TEXT        0       None   0"
      ]
     },
     "execution_count": 9,
     "metadata": {},
     "output_type": "execute_result"
    }
   ],
   "source": [
    "pd.read_sql_query(\"PRAGMA table_info(customer_dim_alt);\", con)"
   ]
  },
  {
   "cell_type": "code",
   "execution_count": 10,
   "id": "3404ff4b-6235-46d6-9055-04a0af48f3a3",
   "metadata": {},
   "outputs": [],
   "source": [
    "query2 = \"\"\"INSERT INTO customer_dim_alt (customer_key, name, contact_no, nid)\n",
    "SELECT coustomer_key, name, contact_no, nid FROM customer_dim;\"\"\"\n",
    "con.execute(query2)  # Executa o comando\n",
    "con.commit()  # Salva as alterações no banco"
   ]
  },
  {
   "cell_type": "code",
   "execution_count": 11,
   "id": "3419e136-d646-40dd-9ed0-e8dfea7feef4",
   "metadata": {},
   "outputs": [
    {
     "name": "stdout",
     "output_type": "stream",
     "text": [
      "  customer_key             name     contact_no            nid\n",
      "0      C000001            sumit  8801920345851  7505075708899\n",
      "1      C000002         tammanne  8801817069329  1977731324842\n",
      "2      C000003    kailash kumar  8801663795774  3769494056318\n",
      "3      C000004  bhagwati prasad  8801533627961  9378834712725\n",
      "4      C000005             ajay  8801943715786  3540815556323\n"
     ]
    }
   ],
   "source": [
    "query3 = \"SELECT * FROM customer_dim_alt LIMIT 5\"\n",
    "resultado3 = pd.read_sql_query(query3, con)\n",
    "print(resultado3)"
   ]
  },
  {
   "cell_type": "code",
   "execution_count": 12,
   "id": "b172d9f1-9f0b-4807-91f8-1b2a98f0d041",
   "metadata": {},
   "outputs": [],
   "source": [
    "queryy = \"DROP TABLE backup_tabela;\"\n",
    "con.execute(queryy)  # Executa o comando\n",
    "con.commit()  # Salva as alterações no banco"
   ]
  },
  {
   "cell_type": "code",
   "execution_count": 13,
   "id": "8a0dbf88-cbb0-4b99-a22b-11be92b03d0f",
   "metadata": {},
   "outputs": [],
   "source": [
    "query4 = \"ALTER TABLE customer_dim RENAME TO backup_tabela;\"\n",
    "con.execute(query4)  # Executa o comando\n",
    "con.commit()  # Salva as alterações no banco"
   ]
  },
  {
   "cell_type": "code",
   "execution_count": 14,
   "id": "35922e4a-659f-405b-a060-a5e6829b6af8",
   "metadata": {},
   "outputs": [],
   "source": [
    "query5 = \"ALTER TABLE customer_dim_alt RENAME TO customer_dim;\"\n",
    "con.execute(query5)  # Executa o comando\n",
    "con.commit()  # Salva as alterações no banco"
   ]
  },
  {
   "cell_type": "code",
   "execution_count": 15,
   "id": "de7a9848-8a1c-41f8-939e-74269f3d03d6",
   "metadata": {},
   "outputs": [],
   "source": [
    "# Escrever uma consulta SQL\n",
    "query6 = \"SELECT * FROM customer_dim\"\n",
    "\n",
    "# Ler os dados diretamente no DataFrame\n",
    "df = pd.read_sql_query(query6, con)\n"
   ]
  },
  {
   "cell_type": "markdown",
   "id": "ba10f3e4-efb3-4c8d-96ad-1031b8ac7d74",
   "metadata": {},
   "source": [
    "# Dados Transaction"
   ]
  },
  {
   "cell_type": "code",
   "execution_count": 16,
   "id": "f2704f49-1e4b-4677-b920-3863e81ad26b",
   "metadata": {},
   "outputs": [],
   "source": [
    "df1 = pd.read_csv(\"Dados/trans_dim.csv\", encoding=\"ISO-8859-1\")  # Substitua pelo nome do seu arquivo"
   ]
  },
  {
   "cell_type": "code",
   "execution_count": 17,
   "id": "994fc2e2-3ba9-43aa-bff8-95a4a537a181",
   "metadata": {},
   "outputs": [
    {
     "data": {
      "text/plain": [
       "39"
      ]
     },
     "execution_count": 17,
     "metadata": {},
     "output_type": "execute_result"
    }
   ],
   "source": [
    "df1.to_sql(\"Trans_dim\", con, if_exists=\"replace\", index=False)"
   ]
  },
  {
   "cell_type": "code",
   "execution_count": 18,
   "id": "4f5988bb-5494-47b4-851e-f1b1ffb0427a",
   "metadata": {},
   "outputs": [
    {
     "name": "stdout",
     "output_type": "stream",
     "text": [
      "  payment_key trans_type                         bank_name\n",
      "0        P001       cash                              None\n",
      "1        P002       card                   AB Bank Limited\n",
      "2        P003       card  Bangladesh Commerce Bank Limited\n",
      "3        P004       card                 Bank Asia Limited\n",
      "4        P005       card                 BRAC Bank Limited\n"
     ]
    }
   ],
   "source": [
    "query7 = \"SELECT * FROM Trans_dim LIMIT 5\"\n",
    "resultado7 = pd.read_sql_query(query7, con)\n",
    "print(resultado7)"
   ]
  },
  {
   "cell_type": "code",
   "execution_count": 19,
   "id": "99be83eb-0129-4e22-83ee-c5548960b2df",
   "metadata": {},
   "outputs": [
    {
     "data": {
      "text/html": [
       "<div>\n",
       "<style scoped>\n",
       "    .dataframe tbody tr th:only-of-type {\n",
       "        vertical-align: middle;\n",
       "    }\n",
       "\n",
       "    .dataframe tbody tr th {\n",
       "        vertical-align: top;\n",
       "    }\n",
       "\n",
       "    .dataframe thead th {\n",
       "        text-align: right;\n",
       "    }\n",
       "</style>\n",
       "<table border=\"1\" class=\"dataframe\">\n",
       "  <thead>\n",
       "    <tr style=\"text-align: right;\">\n",
       "      <th></th>\n",
       "      <th>cid</th>\n",
       "      <th>name</th>\n",
       "      <th>type</th>\n",
       "      <th>notnull</th>\n",
       "      <th>dflt_value</th>\n",
       "      <th>pk</th>\n",
       "    </tr>\n",
       "  </thead>\n",
       "  <tbody>\n",
       "    <tr>\n",
       "      <th>0</th>\n",
       "      <td>0</td>\n",
       "      <td>payment_key</td>\n",
       "      <td>TEXT</td>\n",
       "      <td>0</td>\n",
       "      <td>None</td>\n",
       "      <td>0</td>\n",
       "    </tr>\n",
       "    <tr>\n",
       "      <th>1</th>\n",
       "      <td>1</td>\n",
       "      <td>trans_type</td>\n",
       "      <td>TEXT</td>\n",
       "      <td>0</td>\n",
       "      <td>None</td>\n",
       "      <td>0</td>\n",
       "    </tr>\n",
       "    <tr>\n",
       "      <th>2</th>\n",
       "      <td>2</td>\n",
       "      <td>bank_name</td>\n",
       "      <td>TEXT</td>\n",
       "      <td>0</td>\n",
       "      <td>None</td>\n",
       "      <td>0</td>\n",
       "    </tr>\n",
       "  </tbody>\n",
       "</table>\n",
       "</div>"
      ],
      "text/plain": [
       "   cid         name  type  notnull dflt_value  pk\n",
       "0    0  payment_key  TEXT        0       None   0\n",
       "1    1   trans_type  TEXT        0       None   0\n",
       "2    2    bank_name  TEXT        0       None   0"
      ]
     },
     "execution_count": 19,
     "metadata": {},
     "output_type": "execute_result"
    }
   ],
   "source": [
    "pd.read_sql_query(\"PRAGMA table_info(Trans_dim);\", con)"
   ]
  },
  {
   "cell_type": "code",
   "execution_count": 20,
   "id": "4f119876-b0e1-4b51-bcbb-6c610645f46c",
   "metadata": {},
   "outputs": [],
   "source": [
    "# Escrever uma consulta SQL\n",
    "query8 = \"SELECT * FROM Trans_dim\"\n",
    "\n",
    "# Ler os dados diretamente no DataFrame\n",
    "df1 = pd.read_sql_query(query8, con)"
   ]
  },
  {
   "cell_type": "markdown",
   "id": "5df7a6d7-72a3-4106-9d09-ea2a79a2945d",
   "metadata": {},
   "source": [
    "# Dados Fato"
   ]
  },
  {
   "cell_type": "code",
   "execution_count": 21,
   "id": "bebda01f-4f7e-4dd8-a27b-2ed20031ce36",
   "metadata": {},
   "outputs": [],
   "source": [
    "df2 = pd.read_csv(\"Dados/fact_table.csv\", encoding=\"ISO-8859-1\")  # Substitua pelo nome do seu arquivo"
   ]
  },
  {
   "cell_type": "code",
   "execution_count": 22,
   "id": "ec0f5dfd-8e90-408f-9fb8-2382f8af90a8",
   "metadata": {},
   "outputs": [
    {
     "data": {
      "text/plain": [
       "1000000"
      ]
     },
     "execution_count": 22,
     "metadata": {},
     "output_type": "execute_result"
    }
   ],
   "source": [
    "df2.to_sql(\"fact_table\", con, if_exists=\"replace\", index=False)"
   ]
  },
  {
   "cell_type": "code",
   "execution_count": 23,
   "id": "18a96605-d996-4b89-85a5-1ccea10b7b7b",
   "metadata": {},
   "outputs": [
    {
     "name": "stdout",
     "output_type": "stream",
     "text": [
      "  payment_key coustomer_key time_key item_key store_key  quantity   unit  \\\n",
      "0        P026       C004510  T049189   I00177    S00307         1     ct   \n",
      "1        P022       C008967  T041209   I00248    S00595         1  rolls   \n",
      "2        P030       C007261   T03633   I00195    S00496         8     ct   \n",
      "3        P032       C007048  T084631   I00131     S0086         8     ct   \n",
      "4        P014       C006430  T071276   I00050    S00488         8   cans   \n",
      "\n",
      "   unit_price  total_price  \n",
      "0        35.0         35.0  \n",
      "1        26.0         26.0  \n",
      "2        12.5        100.0  \n",
      "3        14.0        112.0  \n",
      "4         8.0         64.0  \n"
     ]
    }
   ],
   "source": [
    "query9 = \"SELECT * FROM fact_table LIMIT 5\"\n",
    "resultado9 = pd.read_sql_query(query9, con)\n",
    "print(resultado9)"
   ]
  },
  {
   "cell_type": "code",
   "execution_count": 24,
   "id": "0ff0ef74-b406-4fe0-bfcd-846d4d9018bd",
   "metadata": {},
   "outputs": [
    {
     "data": {
      "text/html": [
       "<div>\n",
       "<style scoped>\n",
       "    .dataframe tbody tr th:only-of-type {\n",
       "        vertical-align: middle;\n",
       "    }\n",
       "\n",
       "    .dataframe tbody tr th {\n",
       "        vertical-align: top;\n",
       "    }\n",
       "\n",
       "    .dataframe thead th {\n",
       "        text-align: right;\n",
       "    }\n",
       "</style>\n",
       "<table border=\"1\" class=\"dataframe\">\n",
       "  <thead>\n",
       "    <tr style=\"text-align: right;\">\n",
       "      <th></th>\n",
       "      <th>cid</th>\n",
       "      <th>name</th>\n",
       "      <th>type</th>\n",
       "      <th>notnull</th>\n",
       "      <th>dflt_value</th>\n",
       "      <th>pk</th>\n",
       "    </tr>\n",
       "  </thead>\n",
       "  <tbody>\n",
       "    <tr>\n",
       "      <th>0</th>\n",
       "      <td>0</td>\n",
       "      <td>payment_key</td>\n",
       "      <td>TEXT</td>\n",
       "      <td>0</td>\n",
       "      <td>None</td>\n",
       "      <td>0</td>\n",
       "    </tr>\n",
       "    <tr>\n",
       "      <th>1</th>\n",
       "      <td>1</td>\n",
       "      <td>coustomer_key</td>\n",
       "      <td>TEXT</td>\n",
       "      <td>0</td>\n",
       "      <td>None</td>\n",
       "      <td>0</td>\n",
       "    </tr>\n",
       "    <tr>\n",
       "      <th>2</th>\n",
       "      <td>2</td>\n",
       "      <td>time_key</td>\n",
       "      <td>TEXT</td>\n",
       "      <td>0</td>\n",
       "      <td>None</td>\n",
       "      <td>0</td>\n",
       "    </tr>\n",
       "    <tr>\n",
       "      <th>3</th>\n",
       "      <td>3</td>\n",
       "      <td>item_key</td>\n",
       "      <td>TEXT</td>\n",
       "      <td>0</td>\n",
       "      <td>None</td>\n",
       "      <td>0</td>\n",
       "    </tr>\n",
       "    <tr>\n",
       "      <th>4</th>\n",
       "      <td>4</td>\n",
       "      <td>store_key</td>\n",
       "      <td>TEXT</td>\n",
       "      <td>0</td>\n",
       "      <td>None</td>\n",
       "      <td>0</td>\n",
       "    </tr>\n",
       "    <tr>\n",
       "      <th>5</th>\n",
       "      <td>5</td>\n",
       "      <td>quantity</td>\n",
       "      <td>INTEGER</td>\n",
       "      <td>0</td>\n",
       "      <td>None</td>\n",
       "      <td>0</td>\n",
       "    </tr>\n",
       "    <tr>\n",
       "      <th>6</th>\n",
       "      <td>6</td>\n",
       "      <td>unit</td>\n",
       "      <td>TEXT</td>\n",
       "      <td>0</td>\n",
       "      <td>None</td>\n",
       "      <td>0</td>\n",
       "    </tr>\n",
       "    <tr>\n",
       "      <th>7</th>\n",
       "      <td>7</td>\n",
       "      <td>unit_price</td>\n",
       "      <td>REAL</td>\n",
       "      <td>0</td>\n",
       "      <td>None</td>\n",
       "      <td>0</td>\n",
       "    </tr>\n",
       "    <tr>\n",
       "      <th>8</th>\n",
       "      <td>8</td>\n",
       "      <td>total_price</td>\n",
       "      <td>REAL</td>\n",
       "      <td>0</td>\n",
       "      <td>None</td>\n",
       "      <td>0</td>\n",
       "    </tr>\n",
       "  </tbody>\n",
       "</table>\n",
       "</div>"
      ],
      "text/plain": [
       "   cid           name     type  notnull dflt_value  pk\n",
       "0    0    payment_key     TEXT        0       None   0\n",
       "1    1  coustomer_key     TEXT        0       None   0\n",
       "2    2       time_key     TEXT        0       None   0\n",
       "3    3       item_key     TEXT        0       None   0\n",
       "4    4      store_key     TEXT        0       None   0\n",
       "5    5       quantity  INTEGER        0       None   0\n",
       "6    6           unit     TEXT        0       None   0\n",
       "7    7     unit_price     REAL        0       None   0\n",
       "8    8    total_price     REAL        0       None   0"
      ]
     },
     "execution_count": 24,
     "metadata": {},
     "output_type": "execute_result"
    }
   ],
   "source": [
    "pd.read_sql_query(\"PRAGMA table_info(fact_table);\", con)"
   ]
  },
  {
   "cell_type": "code",
   "execution_count": 25,
   "id": "77ef0ba6-c789-4192-8160-73edc51cf2c1",
   "metadata": {},
   "outputs": [],
   "source": [
    "# Escrever uma consulta SQL\n",
    "query10 = \"SELECT * FROM fact_table\"\n",
    "\n",
    "# Ler os dados diretamente no DataFrame\n",
    "df2 = pd.read_sql_query(query10, con)"
   ]
  },
  {
   "cell_type": "markdown",
   "id": "e2d48a8e-5d80-44b5-843b-a0034263f6da",
   "metadata": {},
   "source": [
    "# Dados Store"
   ]
  },
  {
   "cell_type": "code",
   "execution_count": 26,
   "id": "e8e09205-0ee0-4988-86e5-635b582b1117",
   "metadata": {},
   "outputs": [],
   "source": [
    "df3 = pd.read_csv(\"Dados/store_dim.csv\", encoding=\"ISO-8859-1\")  # Substitua pelo nome do seu arquivo"
   ]
  },
  {
   "cell_type": "code",
   "execution_count": 27,
   "id": "123985e7-172e-4eb7-b442-7dbd686fe9b5",
   "metadata": {},
   "outputs": [
    {
     "data": {
      "text/plain": [
       "726"
      ]
     },
     "execution_count": 27,
     "metadata": {},
     "output_type": "execute_result"
    }
   ],
   "source": [
    "df3.to_sql(\"store_dim\", con, if_exists=\"replace\", index=False)"
   ]
  },
  {
   "cell_type": "code",
   "execution_count": 28,
   "id": "51ed696a-29fb-4179-8135-912121bb0ca4",
   "metadata": {},
   "outputs": [
    {
     "name": "stdout",
     "output_type": "stream",
     "text": [
      "  store_key division  district         upazila\n",
      "0     S0001   SYLHET  HABIGANJ      AJMIRIGANJ\n",
      "1     S0002   SYLHET  HABIGANJ         BAHUBAL\n",
      "2     S0003   SYLHET  HABIGANJ      BANIACHONG\n",
      "3     S0004   SYLHET  HABIGANJ     CHUNARUGHAT\n",
      "4     S0005   SYLHET  HABIGANJ  HABIGANJ SADAR\n"
     ]
    }
   ],
   "source": [
    "query11 = \"SELECT * FROM store_dim LIMIT 5\"\n",
    "resultado11 = pd.read_sql_query(query11, con)\n",
    "print(resultado11)"
   ]
  },
  {
   "cell_type": "code",
   "execution_count": 29,
   "id": "1ab28f12-0eaf-4282-b767-57d83d21e0fa",
   "metadata": {},
   "outputs": [
    {
     "data": {
      "text/html": [
       "<div>\n",
       "<style scoped>\n",
       "    .dataframe tbody tr th:only-of-type {\n",
       "        vertical-align: middle;\n",
       "    }\n",
       "\n",
       "    .dataframe tbody tr th {\n",
       "        vertical-align: top;\n",
       "    }\n",
       "\n",
       "    .dataframe thead th {\n",
       "        text-align: right;\n",
       "    }\n",
       "</style>\n",
       "<table border=\"1\" class=\"dataframe\">\n",
       "  <thead>\n",
       "    <tr style=\"text-align: right;\">\n",
       "      <th></th>\n",
       "      <th>cid</th>\n",
       "      <th>name</th>\n",
       "      <th>type</th>\n",
       "      <th>notnull</th>\n",
       "      <th>dflt_value</th>\n",
       "      <th>pk</th>\n",
       "    </tr>\n",
       "  </thead>\n",
       "  <tbody>\n",
       "    <tr>\n",
       "      <th>0</th>\n",
       "      <td>0</td>\n",
       "      <td>store_key</td>\n",
       "      <td>TEXT</td>\n",
       "      <td>0</td>\n",
       "      <td>None</td>\n",
       "      <td>0</td>\n",
       "    </tr>\n",
       "    <tr>\n",
       "      <th>1</th>\n",
       "      <td>1</td>\n",
       "      <td>division</td>\n",
       "      <td>TEXT</td>\n",
       "      <td>0</td>\n",
       "      <td>None</td>\n",
       "      <td>0</td>\n",
       "    </tr>\n",
       "    <tr>\n",
       "      <th>2</th>\n",
       "      <td>2</td>\n",
       "      <td>district</td>\n",
       "      <td>TEXT</td>\n",
       "      <td>0</td>\n",
       "      <td>None</td>\n",
       "      <td>0</td>\n",
       "    </tr>\n",
       "    <tr>\n",
       "      <th>3</th>\n",
       "      <td>3</td>\n",
       "      <td>upazila</td>\n",
       "      <td>TEXT</td>\n",
       "      <td>0</td>\n",
       "      <td>None</td>\n",
       "      <td>0</td>\n",
       "    </tr>\n",
       "  </tbody>\n",
       "</table>\n",
       "</div>"
      ],
      "text/plain": [
       "   cid       name  type  notnull dflt_value  pk\n",
       "0    0  store_key  TEXT        0       None   0\n",
       "1    1   division  TEXT        0       None   0\n",
       "2    2   district  TEXT        0       None   0\n",
       "3    3    upazila  TEXT        0       None   0"
      ]
     },
     "execution_count": 29,
     "metadata": {},
     "output_type": "execute_result"
    }
   ],
   "source": [
    "pd.read_sql_query(\"PRAGMA table_info(store_dim);\", con)"
   ]
  },
  {
   "cell_type": "code",
   "execution_count": 30,
   "id": "d147b997-e837-4c37-8565-c276cbf461b6",
   "metadata": {},
   "outputs": [],
   "source": [
    "# Escrever uma consulta SQL\n",
    "query12 = \"SELECT * FROM store_dim\"\n",
    "\n",
    "# Ler os dados diretamente no DataFrame\n",
    "df3 = pd.read_sql_query(query12, con)"
   ]
  },
  {
   "cell_type": "code",
   "execution_count": 31,
   "id": "69a19a30-0b1b-467d-ab44-82ddf5c0760c",
   "metadata": {},
   "outputs": [
    {
     "data": {
      "text/html": [
       "<div>\n",
       "<style scoped>\n",
       "    .dataframe tbody tr th:only-of-type {\n",
       "        vertical-align: middle;\n",
       "    }\n",
       "\n",
       "    .dataframe tbody tr th {\n",
       "        vertical-align: top;\n",
       "    }\n",
       "\n",
       "    .dataframe thead th {\n",
       "        text-align: right;\n",
       "    }\n",
       "</style>\n",
       "<table border=\"1\" class=\"dataframe\">\n",
       "  <thead>\n",
       "    <tr style=\"text-align: right;\">\n",
       "      <th></th>\n",
       "      <th>store_key</th>\n",
       "      <th>division</th>\n",
       "      <th>district</th>\n",
       "      <th>upazila</th>\n",
       "      <th>population</th>\n",
       "    </tr>\n",
       "  </thead>\n",
       "  <tbody>\n",
       "    <tr>\n",
       "      <th>0</th>\n",
       "      <td>S0001</td>\n",
       "      <td>SYLHET</td>\n",
       "      <td>HABIGANJ</td>\n",
       "      <td>AJMIRIGANJ</td>\n",
       "      <td>237000</td>\n",
       "    </tr>\n",
       "    <tr>\n",
       "      <th>1</th>\n",
       "      <td>S0002</td>\n",
       "      <td>SYLHET</td>\n",
       "      <td>HABIGANJ</td>\n",
       "      <td>BAHUBAL</td>\n",
       "      <td>237000</td>\n",
       "    </tr>\n",
       "    <tr>\n",
       "      <th>2</th>\n",
       "      <td>S0003</td>\n",
       "      <td>SYLHET</td>\n",
       "      <td>HABIGANJ</td>\n",
       "      <td>BANIACHONG</td>\n",
       "      <td>237000</td>\n",
       "    </tr>\n",
       "    <tr>\n",
       "      <th>3</th>\n",
       "      <td>S0004</td>\n",
       "      <td>SYLHET</td>\n",
       "      <td>HABIGANJ</td>\n",
       "      <td>CHUNARUGHAT</td>\n",
       "      <td>237000</td>\n",
       "    </tr>\n",
       "    <tr>\n",
       "      <th>4</th>\n",
       "      <td>S0005</td>\n",
       "      <td>SYLHET</td>\n",
       "      <td>HABIGANJ</td>\n",
       "      <td>HABIGANJ SADAR</td>\n",
       "      <td>237000</td>\n",
       "    </tr>\n",
       "  </tbody>\n",
       "</table>\n",
       "</div>"
      ],
      "text/plain": [
       "  store_key division  district         upazila  population\n",
       "0     S0001   SYLHET  HABIGANJ      AJMIRIGANJ      237000\n",
       "1     S0002   SYLHET  HABIGANJ         BAHUBAL      237000\n",
       "2     S0003   SYLHET  HABIGANJ      BANIACHONG      237000\n",
       "3     S0004   SYLHET  HABIGANJ     CHUNARUGHAT      237000\n",
       "4     S0005   SYLHET  HABIGANJ  HABIGANJ SADAR      237000"
      ]
     },
     "execution_count": 31,
     "metadata": {},
     "output_type": "execute_result"
    }
   ],
   "source": [
    "# Dicionário com as populações das cidades\n",
    "population_dict = {\n",
    "    'DHAKA': 10200000,\n",
    "    'CHITTAGONG': 5500000,\n",
    "    'RAJSHAHI': 553300,\n",
    "    'KHULNA': 965500,\n",
    "    'RANGPUR': 343100,\n",
    "    'BARISAL': 202200,\n",
    "    'SYLHET': 237000\n",
    "}\n",
    "\n",
    "# Adicionando a nova coluna 'population' ao dataframe\n",
    "df3['population'] = df3['division'].map(population_dict)\n",
    "\n",
    "df3.head()"
   ]
  },
  {
   "cell_type": "code",
   "execution_count": 33,
   "id": "6bb1de88-d865-4397-b515-e4061086bff6",
   "metadata": {},
   "outputs": [],
   "source": [
    "df3.to_csv('Dados/store_dim_com_population.csv', index=False)"
   ]
  },
  {
   "cell_type": "code",
   "execution_count": 44,
   "id": "a32aeee2-7bce-4598-b875-c45464a297d1",
   "metadata": {},
   "outputs": [],
   "source": [
    "df3 = pd.read_csv(\"Dados/store_dim_com_population.csv\", encoding=\"ISO-8859-1\")"
   ]
  },
  {
   "cell_type": "code",
   "execution_count": 48,
   "id": "11a975ea-d93b-4c36-a7e8-f40d6370e532",
   "metadata": {},
   "outputs": [
    {
     "data": {
      "text/plain": [
       "726"
      ]
     },
     "execution_count": 48,
     "metadata": {},
     "output_type": "execute_result"
    }
   ],
   "source": [
    "df3.to_sql(\"store_dim_com_population\", con, if_exists=\"replace\", index=False)"
   ]
  },
  {
   "cell_type": "markdown",
   "id": "cb9e654b-29ff-474a-b6d2-c8f3cb556205",
   "metadata": {},
   "source": [
    "# Dados Time"
   ]
  },
  {
   "cell_type": "code",
   "execution_count": 34,
   "id": "e75bea61-6421-4c50-a8fe-84f02dc99839",
   "metadata": {},
   "outputs": [],
   "source": [
    "df4 = pd.read_csv(\"Dados/time_dim.csv\", encoding=\"ISO-8859-1\")  # Substitua pelo nome do seu arquivo"
   ]
  },
  {
   "cell_type": "code",
   "execution_count": 35,
   "id": "a31db933-8e94-458c-9642-93dd60a3e32e",
   "metadata": {},
   "outputs": [
    {
     "data": {
      "text/plain": [
       "99999"
      ]
     },
     "execution_count": 35,
     "metadata": {},
     "output_type": "execute_result"
    }
   ],
   "source": [
    "df4.to_sql(\"time_dim\", con, if_exists=\"replace\", index=False)"
   ]
  },
  {
   "cell_type": "code",
   "execution_count": 36,
   "id": "2eb4dddf-93e0-4221-9f24-78a186d71903",
   "metadata": {},
   "outputs": [
    {
     "name": "stdout",
     "output_type": "stream",
     "text": [
      "  time_key              date  hour  day      week  month quarter  year\n",
      "0   T00001  20-05-2017 14:56    14   20  3rd Week      5      Q2  2017\n",
      "1   T00002  30-01-2015 22:14    22   30  4th Week      1      Q1  2015\n",
      "2   T00003  14-03-2020 02:34     2   14  2nd Week      3      Q1  2020\n",
      "3   T00004  27-04-2018 12:19    12   27  4th Week      4      Q2  2018\n",
      "4   T00005  14-04-2018 10:43    10   14  2nd Week      4      Q2  2018\n"
     ]
    }
   ],
   "source": [
    "query13 = \"SELECT * FROM time_dim LIMIT 5\"\n",
    "resultado13 = pd.read_sql_query(query13, con)\n",
    "print(resultado13)"
   ]
  },
  {
   "cell_type": "code",
   "execution_count": 37,
   "id": "2522c473-42bd-4d96-b16c-5da72636d8a5",
   "metadata": {},
   "outputs": [
    {
     "data": {
      "text/html": [
       "<div>\n",
       "<style scoped>\n",
       "    .dataframe tbody tr th:only-of-type {\n",
       "        vertical-align: middle;\n",
       "    }\n",
       "\n",
       "    .dataframe tbody tr th {\n",
       "        vertical-align: top;\n",
       "    }\n",
       "\n",
       "    .dataframe thead th {\n",
       "        text-align: right;\n",
       "    }\n",
       "</style>\n",
       "<table border=\"1\" class=\"dataframe\">\n",
       "  <thead>\n",
       "    <tr style=\"text-align: right;\">\n",
       "      <th></th>\n",
       "      <th>cid</th>\n",
       "      <th>name</th>\n",
       "      <th>type</th>\n",
       "      <th>notnull</th>\n",
       "      <th>dflt_value</th>\n",
       "      <th>pk</th>\n",
       "    </tr>\n",
       "  </thead>\n",
       "  <tbody>\n",
       "    <tr>\n",
       "      <th>0</th>\n",
       "      <td>0</td>\n",
       "      <td>time_key</td>\n",
       "      <td>TEXT</td>\n",
       "      <td>0</td>\n",
       "      <td>None</td>\n",
       "      <td>0</td>\n",
       "    </tr>\n",
       "    <tr>\n",
       "      <th>1</th>\n",
       "      <td>1</td>\n",
       "      <td>date</td>\n",
       "      <td>TEXT</td>\n",
       "      <td>0</td>\n",
       "      <td>None</td>\n",
       "      <td>0</td>\n",
       "    </tr>\n",
       "    <tr>\n",
       "      <th>2</th>\n",
       "      <td>2</td>\n",
       "      <td>hour</td>\n",
       "      <td>INTEGER</td>\n",
       "      <td>0</td>\n",
       "      <td>None</td>\n",
       "      <td>0</td>\n",
       "    </tr>\n",
       "    <tr>\n",
       "      <th>3</th>\n",
       "      <td>3</td>\n",
       "      <td>day</td>\n",
       "      <td>INTEGER</td>\n",
       "      <td>0</td>\n",
       "      <td>None</td>\n",
       "      <td>0</td>\n",
       "    </tr>\n",
       "    <tr>\n",
       "      <th>4</th>\n",
       "      <td>4</td>\n",
       "      <td>week</td>\n",
       "      <td>TEXT</td>\n",
       "      <td>0</td>\n",
       "      <td>None</td>\n",
       "      <td>0</td>\n",
       "    </tr>\n",
       "    <tr>\n",
       "      <th>5</th>\n",
       "      <td>5</td>\n",
       "      <td>month</td>\n",
       "      <td>INTEGER</td>\n",
       "      <td>0</td>\n",
       "      <td>None</td>\n",
       "      <td>0</td>\n",
       "    </tr>\n",
       "    <tr>\n",
       "      <th>6</th>\n",
       "      <td>6</td>\n",
       "      <td>quarter</td>\n",
       "      <td>TEXT</td>\n",
       "      <td>0</td>\n",
       "      <td>None</td>\n",
       "      <td>0</td>\n",
       "    </tr>\n",
       "    <tr>\n",
       "      <th>7</th>\n",
       "      <td>7</td>\n",
       "      <td>year</td>\n",
       "      <td>INTEGER</td>\n",
       "      <td>0</td>\n",
       "      <td>None</td>\n",
       "      <td>0</td>\n",
       "    </tr>\n",
       "  </tbody>\n",
       "</table>\n",
       "</div>"
      ],
      "text/plain": [
       "   cid      name     type  notnull dflt_value  pk\n",
       "0    0  time_key     TEXT        0       None   0\n",
       "1    1      date     TEXT        0       None   0\n",
       "2    2      hour  INTEGER        0       None   0\n",
       "3    3       day  INTEGER        0       None   0\n",
       "4    4      week     TEXT        0       None   0\n",
       "5    5     month  INTEGER        0       None   0\n",
       "6    6   quarter     TEXT        0       None   0\n",
       "7    7      year  INTEGER        0       None   0"
      ]
     },
     "execution_count": 37,
     "metadata": {},
     "output_type": "execute_result"
    }
   ],
   "source": [
    "pd.read_sql_query(\"PRAGMA table_info(time_dim);\", con)"
   ]
  },
  {
   "cell_type": "code",
   "execution_count": 38,
   "id": "59b0df34-6583-4acc-ba20-7afcd5b4bc9f",
   "metadata": {},
   "outputs": [],
   "source": [
    "# Escrever uma consulta SQL\n",
    "query14 = \"SELECT * FROM time_dim\"\n",
    "\n",
    "# Ler os dados diretamente no DataFrame\n",
    "df4 = pd.read_sql_query(query14, con)"
   ]
  },
  {
   "cell_type": "markdown",
   "id": "351c6084-42f4-4784-af4c-7c58b2863fb5",
   "metadata": {},
   "source": [
    "# Dados Item "
   ]
  },
  {
   "cell_type": "code",
   "execution_count": 39,
   "id": "04ed2cd8-4965-4a6c-ab6f-e042a6b792d3",
   "metadata": {},
   "outputs": [],
   "source": [
    "df5 = pd.read_csv(\"Dados/item_dim.csv\", encoding=\"ISO-8859-1\")  # Substitua pelo nome do seu arquivo"
   ]
  },
  {
   "cell_type": "code",
   "execution_count": 40,
   "id": "07a8eb5c-8b98-45ea-acb0-e01872ab9406",
   "metadata": {},
   "outputs": [
    {
     "data": {
      "text/plain": [
       "264"
      ]
     },
     "execution_count": 40,
     "metadata": {},
     "output_type": "execute_result"
    }
   ],
   "source": [
    "df5.to_sql(\"item_dim\", con, if_exists=\"replace\", index=False)"
   ]
  },
  {
   "cell_type": "code",
   "execution_count": 41,
   "id": "32fcea1b-9ce6-45e6-9f5a-19bc67cba0c6",
   "metadata": {},
   "outputs": [
    {
     "name": "stdout",
     "output_type": "stream",
     "text": [
      "  item_key                        item_name                desc  unit_price  \\\n",
      "0   I00001       A&W Root Beer - 12 oz cans  a. Beverage - Soda       11.50   \n",
      "1   I00002  A&W Root Beer Diet - 12 oz cans  a. Beverage - Soda        6.75   \n",
      "2   I00003    Barq's Root Beer - 12 oz cans  a. Beverage - Soda        6.75   \n",
      "3   I00004                 Cherry Coke 12oz  a. Beverage - Soda        6.75   \n",
      "4   I00005         Cherry Coke Zero 12 pack  a. Beverage - Soda        6.75   \n",
      "\n",
      "   man_country            supplier  unit  \n",
      "0  Netherlands     Bolsius Boxmeer  cans  \n",
      "1       poland  CHROMADURLIN S.A.S  cans  \n",
      "2   Bangladesh        DENIMACH LTD  cans  \n",
      "3  Netherlands     Bolsius Boxmeer  cans  \n",
      "4      Finland         HARDFORD AB  cans  \n"
     ]
    }
   ],
   "source": [
    "query15 = \"SELECT * FROM item_dim LIMIT 5\"\n",
    "resultado15 = pd.read_sql_query(query15, con)\n",
    "print(resultado15)"
   ]
  },
  {
   "cell_type": "code",
   "execution_count": 42,
   "id": "2f8afc14-e102-4010-abcb-5ca68dea7763",
   "metadata": {},
   "outputs": [
    {
     "data": {
      "text/html": [
       "<div>\n",
       "<style scoped>\n",
       "    .dataframe tbody tr th:only-of-type {\n",
       "        vertical-align: middle;\n",
       "    }\n",
       "\n",
       "    .dataframe tbody tr th {\n",
       "        vertical-align: top;\n",
       "    }\n",
       "\n",
       "    .dataframe thead th {\n",
       "        text-align: right;\n",
       "    }\n",
       "</style>\n",
       "<table border=\"1\" class=\"dataframe\">\n",
       "  <thead>\n",
       "    <tr style=\"text-align: right;\">\n",
       "      <th></th>\n",
       "      <th>cid</th>\n",
       "      <th>name</th>\n",
       "      <th>type</th>\n",
       "      <th>notnull</th>\n",
       "      <th>dflt_value</th>\n",
       "      <th>pk</th>\n",
       "    </tr>\n",
       "  </thead>\n",
       "  <tbody>\n",
       "    <tr>\n",
       "      <th>0</th>\n",
       "      <td>0</td>\n",
       "      <td>item_key</td>\n",
       "      <td>TEXT</td>\n",
       "      <td>0</td>\n",
       "      <td>None</td>\n",
       "      <td>0</td>\n",
       "    </tr>\n",
       "    <tr>\n",
       "      <th>1</th>\n",
       "      <td>1</td>\n",
       "      <td>item_name</td>\n",
       "      <td>TEXT</td>\n",
       "      <td>0</td>\n",
       "      <td>None</td>\n",
       "      <td>0</td>\n",
       "    </tr>\n",
       "    <tr>\n",
       "      <th>2</th>\n",
       "      <td>2</td>\n",
       "      <td>desc</td>\n",
       "      <td>TEXT</td>\n",
       "      <td>0</td>\n",
       "      <td>None</td>\n",
       "      <td>0</td>\n",
       "    </tr>\n",
       "    <tr>\n",
       "      <th>3</th>\n",
       "      <td>3</td>\n",
       "      <td>unit_price</td>\n",
       "      <td>REAL</td>\n",
       "      <td>0</td>\n",
       "      <td>None</td>\n",
       "      <td>0</td>\n",
       "    </tr>\n",
       "    <tr>\n",
       "      <th>4</th>\n",
       "      <td>4</td>\n",
       "      <td>man_country</td>\n",
       "      <td>TEXT</td>\n",
       "      <td>0</td>\n",
       "      <td>None</td>\n",
       "      <td>0</td>\n",
       "    </tr>\n",
       "    <tr>\n",
       "      <th>5</th>\n",
       "      <td>5</td>\n",
       "      <td>supplier</td>\n",
       "      <td>TEXT</td>\n",
       "      <td>0</td>\n",
       "      <td>None</td>\n",
       "      <td>0</td>\n",
       "    </tr>\n",
       "    <tr>\n",
       "      <th>6</th>\n",
       "      <td>6</td>\n",
       "      <td>unit</td>\n",
       "      <td>TEXT</td>\n",
       "      <td>0</td>\n",
       "      <td>None</td>\n",
       "      <td>0</td>\n",
       "    </tr>\n",
       "  </tbody>\n",
       "</table>\n",
       "</div>"
      ],
      "text/plain": [
       "   cid         name  type  notnull dflt_value  pk\n",
       "0    0     item_key  TEXT        0       None   0\n",
       "1    1    item_name  TEXT        0       None   0\n",
       "2    2         desc  TEXT        0       None   0\n",
       "3    3   unit_price  REAL        0       None   0\n",
       "4    4  man_country  TEXT        0       None   0\n",
       "5    5     supplier  TEXT        0       None   0\n",
       "6    6         unit  TEXT        0       None   0"
      ]
     },
     "execution_count": 42,
     "metadata": {},
     "output_type": "execute_result"
    }
   ],
   "source": [
    "pd.read_sql_query(\"PRAGMA table_info(item_dim);\", con)"
   ]
  },
  {
   "cell_type": "code",
   "execution_count": 43,
   "id": "6592d1aa-30bf-4218-bb45-9fc79344bfd2",
   "metadata": {},
   "outputs": [],
   "source": [
    "# Escrever uma consulta SQL\n",
    "query16 = \"SELECT * FROM item_dim\"\n",
    "\n",
    "# Ler os dados diretamente no DataFrame\n",
    "df5 = pd.read_sql_query(query16, con)\n",
    "\n",
    "# Fechar a conexão\n",
    "con.close()"
   ]
  }
 ],
 "metadata": {
  "kernelspec": {
   "display_name": "Python 3 (ipykernel)",
   "language": "python",
   "name": "python3"
  },
  "language_info": {
   "codemirror_mode": {
    "name": "ipython",
    "version": 3
   },
   "file_extension": ".py",
   "mimetype": "text/x-python",
   "name": "python",
   "nbconvert_exporter": "python",
   "pygments_lexer": "ipython3",
   "version": "3.9.13"
  }
 },
 "nbformat": 4,
 "nbformat_minor": 5
}
